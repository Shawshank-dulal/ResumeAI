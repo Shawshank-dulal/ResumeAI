{
 "cells": [
  {
   "cell_type": "code",
   "execution_count": 2,
   "id": "5441f61d",
   "metadata": {},
   "outputs": [
    {
     "data": {
      "application/vnd.jupyter.widget-view+json": {
       "model_id": "21cf13362e234f1b8930f199902280c6",
       "version_major": 2,
       "version_minor": 0
      },
      "text/plain": [
       "Downloading config.json:   0%|          | 0.00/1.15k [00:00<?, ?B/s]"
      ]
     },
     "metadata": {},
     "output_type": "display_data"
    },
    {
     "data": {
      "application/vnd.jupyter.widget-view+json": {
       "model_id": "6e5a25135d344e6994309c2727f81ed3",
       "version_major": 2,
       "version_minor": 0
      },
      "text/plain": [
       "Downloading pytorch_model.bin:   0%|          | 0.00/1.63G [00:00<?, ?B/s]"
      ]
     },
     "metadata": {},
     "output_type": "display_data"
    },
    {
     "data": {
      "application/vnd.jupyter.widget-view+json": {
       "model_id": "d85442e73dd549839affaad4dbc83bb6",
       "version_major": 2,
       "version_minor": 0
      },
      "text/plain": [
       "Downloading tokenizer_config.json:   0%|          | 0.00/26.0 [00:00<?, ?B/s]"
      ]
     },
     "metadata": {},
     "output_type": "display_data"
    },
    {
     "data": {
      "application/vnd.jupyter.widget-view+json": {
       "model_id": "60c6864ffba64a5e8aaa1289a28211b3",
       "version_major": 2,
       "version_minor": 0
      },
      "text/plain": [
       "Downloading vocab.json:   0%|          | 0.00/899k [00:00<?, ?B/s]"
      ]
     },
     "metadata": {},
     "output_type": "display_data"
    },
    {
     "data": {
      "application/vnd.jupyter.widget-view+json": {
       "model_id": "f66c05f15b854e69af6c32f9ae36bbe0",
       "version_major": 2,
       "version_minor": 0
      },
      "text/plain": [
       "Downloading merges.txt:   0%|          | 0.00/456k [00:00<?, ?B/s]"
      ]
     },
     "metadata": {},
     "output_type": "display_data"
    },
    {
     "data": {
      "application/vnd.jupyter.widget-view+json": {
       "model_id": "0713cc06f687430f92970e7aa91b6f9c",
       "version_major": 2,
       "version_minor": 0
      },
      "text/plain": [
       "Downloading tokenizer.json:   0%|          | 0.00/1.36M [00:00<?, ?B/s]"
      ]
     },
     "metadata": {},
     "output_type": "display_data"
    },
    {
     "data": {
      "text/plain": [
       "{'sequence': 'I want to close my savings account',\n",
       " 'labels': ['Savings',\n",
       "  'Close',\n",
       "  'Accounts',\n",
       "  'Cheque',\n",
       "  'Open',\n",
       "  'Mortgage',\n",
       "  'Credit Card'],\n",
       " 'scores': [0.5641597509384155,\n",
       "  0.2953896224498749,\n",
       "  0.12247412651777267,\n",
       "  0.007701385300606489,\n",
       "  0.005368158686906099,\n",
       "  0.0025286769960075617,\n",
       "  0.002378293313086033]}"
      ]
     },
     "execution_count": 2,
     "metadata": {},
     "output_type": "execute_result"
    }
   ],
   "source": [
    "\n",
    "from transformers import pipeline\n",
    "classifier = pipeline(\"zero-shot-classification\",\n",
    "                      model=\"facebook/bart-large-mnli\")\n",
    "\n",
    "sequence_to_classify = \"I want to close my savings account\"\n",
    "candidate_labels = ['Accounts', 'Savings', 'Cheque', 'Credit Card', 'Mortgage', 'Close', 'Open']\n",
    "classifier(sequence_to_classify, candidate_labels)"
   ]
  },
  {
   "cell_type": "code",
   "execution_count": 15,
   "id": "177612f4",
   "metadata": {},
   "outputs": [],
   "source": [
    "sequence_to_classify=\"can you give me cover letter for this job\"\n",
    "candidate_labels=['course','java','python','sql','cover letter', 'rating', 'resume','job']"
   ]
  },
  {
   "cell_type": "code",
   "execution_count": 16,
   "id": "1376e48a",
   "metadata": {},
   "outputs": [
    {
     "data": {
      "text/plain": [
       "{'sequence': 'can you give me cover letter for this job',\n",
       " 'labels': ['cover letter',\n",
       "  'job',\n",
       "  'course',\n",
       "  'rating',\n",
       "  'resume',\n",
       "  'sql',\n",
       "  'java',\n",
       "  'python'],\n",
       " 'scores': [0.49898213148117065,\n",
       "  0.39794740080833435,\n",
       "  0.04567702114582062,\n",
       "  0.02127899043262005,\n",
       "  0.012946391478180885,\n",
       "  0.010791110806167126,\n",
       "  0.006985508371144533,\n",
       "  0.005391465499997139]}"
      ]
     },
     "execution_count": 16,
     "metadata": {},
     "output_type": "execute_result"
    }
   ],
   "source": [
    "classifier(sequence_to_classify,candidate_labels)"
   ]
  },
  {
   "cell_type": "code",
   "execution_count": null,
   "id": "404db611",
   "metadata": {},
   "outputs": [],
   "source": []
  }
 ],
 "metadata": {
  "kernelspec": {
   "display_name": "Python 3 (ipykernel)",
   "language": "python",
   "name": "python3"
  },
  "language_info": {
   "codemirror_mode": {
    "name": "ipython",
    "version": 3
   },
   "file_extension": ".py",
   "mimetype": "text/x-python",
   "name": "python",
   "nbconvert_exporter": "python",
   "pygments_lexer": "ipython3",
   "version": "3.10.9"
  }
 },
 "nbformat": 4,
 "nbformat_minor": 5
}
