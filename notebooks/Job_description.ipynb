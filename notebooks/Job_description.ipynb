{
 "cells": [
  {
   "cell_type": "code",
   "execution_count": 32,
   "id": "d4a0652c",
   "metadata": {},
   "outputs": [],
   "source": [
    "# Kor!\n",
    "# from kor.extraction import create_extraction_chain\n",
    "# from kor.nodes import Object, Text, Number\n",
    "\n",
    "# LangChain Models\n",
    "from langchain.chat_models import ChatOpenAI\n",
    "from langchain.llms import OpenAI\n",
    "from langchain.chains import create_extraction_chain\n",
    "# Standard Helpers\n",
    "import pandas as pd\n",
    "import requests\n",
    "import time\n",
    "import json\n",
    "from datetime import datetime\n",
    "\n",
    "# Text Helpers\n",
    "from bs4 import BeautifulSoup\n",
    "from markdownify import markdownify as md\n",
    "\n",
    "# For token counting\n",
    "from langchain.callbacks import get_openai_callback\n",
    "\n",
    "def printOutput(output):\n",
    "    print(json.dumps(output,sort_keys=True, indent=3))"
   ]
  },
  {
   "cell_type": "code",
   "execution_count": 18,
   "id": "62b5927b",
   "metadata": {},
   "outputs": [],
   "source": [
    "openai_api_key = \"\"\n"
   ]
  },
  {
   "cell_type": "code",
   "execution_count": 29,
   "id": "af942a7d",
   "metadata": {},
   "outputs": [],
   "source": [
    "llm = ChatOpenAI(\n",
    "    # model_name=\"gpt-3.5-turbo\",\n",
    "    model=\"gpt-3.5-turbo\",\n",
    "    temperature=0,\n",
    "    max_tokens=2000,\n",
    "    openai_api_key=openai_api_key\n",
    ")"
   ]
  },
  {
   "cell_type": "code",
   "execution_count": 20,
   "id": "3b313bb5",
   "metadata": {},
   "outputs": [],
   "source": [
    "jd=\"\"\"JOB DESCRIPTION / ROLES\n",
    "\n",
    "F1Soft Group has been building an ecosystem of digital products and services to enable Digital Financial Transformation. From its inception, F1Soft has been committed to making easier, faster, and more convenient digital financial solutions that can help end users feel more empowered and connected. With innovation and technology at the core of everything we do, our products and services can help take businesses to the next level. We believe in providing effective and efficient digital financial solutions that enable access to a digital economy.\n",
    "\n",
    "RESPONSIBILITIES\n",
    "\n",
    "· Analyse and understand business requirements in details\n",
    "· Work in Scrum/Kanban team environment to size and plan the requirements\n",
    "· Develop software products following standard coding practices and automated unit testing\n",
    "· Maintain software products by identifying and resolving issues\n",
    "· Work collaboratively in an Agile team to deliver team commitments and goals\n",
    "· Maintain required documentation of own's work\n",
    "· Research on new technology and techniques for continuous improvement of the products\n",
    "· Participate actively in retrospective meetings for continuous improvement of the team\n",
    "\n",
    "\n",
    "REQUIREMENT\n",
    "\n",
    "· Bachelors Degree in Computer Science, Computer Engineering or related technical Discipline\n",
    "· Minimum 1 to 3 Years of prior work experience in related field\n",
    "· Familiar with Object Oriented Concept\n",
    "· Familiar with Data Structure and DBMS\n",
    "· Familiar with Agile/Scrum Practices and Tools\n",
    "\n",
    "\n",
    " Required Skills\n",
    "\n",
    "· JAVA\n",
    "· Spring Framework\n",
    "· Database (MySQL)\n",
    "\"\"\""
   ]
  },
  {
   "cell_type": "code",
   "execution_count": 21,
   "id": "61890779",
   "metadata": {},
   "outputs": [],
   "source": [
    "tools=Object(\n",
    "id=\"tools\",\n",
    "description=\"\"\"Skills required in Job Description\"\"\",\n",
    "attributes=[\n",
    "    Text(\n",
    "    id=\"tool\",\n",
    "        description=\"Name of the technology skill, tool or a company\"\n",
    "    )\n",
    "],\n",
    "    examples=[\n",
    "        (\n",
    "            \"Experience in working with Netsuite, or Looker a plus.\",\n",
    "            [\n",
    "                {\"tool\": \"Netsuite\"},\n",
    "                {\"tool\": \"Looker\"},\n",
    "            ],\n",
    "        ),\n",
    "        (\n",
    "           \"Experience with Microsoft Excel\",\n",
    "            [\n",
    "               {\"tool\": \"Microsoft Excel\"}\n",
    "            ] \n",
    "        ),\n",
    "        (\n",
    "           \"You must know AWS to do well in the job\",\n",
    "            [\n",
    "               {\"tool\": \"AWS\"}\n",
    "            ] \n",
    "        ),\n",
    "        (\n",
    "           \"Troubleshooting customer issues and debugging from logs (Splunk, Syslogs, etc.) \",\n",
    "            [\n",
    "               {\"tool\": \"Splunk\"},\n",
    "            ] \n",
    "        )\n",
    "    ],\n",
    "    many=True,\n",
    ")"
   ]
  },
  {
   "cell_type": "code",
   "execution_count": 25,
   "id": "cdf8a852",
   "metadata": {},
   "outputs": [],
   "source": [
    "chain = create_extraction_chain(llm, tools, input_formatter=\"triple_quotes\")\n"
   ]
  },
  {
   "cell_type": "code",
   "execution_count": 26,
   "id": "0329221f",
   "metadata": {},
   "outputs": [
    {
     "name": "stderr",
     "output_type": "stream",
     "text": [
      "/home/sashank/miniconda3/lib/python3.10/site-packages/langchain/chains/llm.py:316: UserWarning: The predict_and_parse method is deprecated, instead pass an output parser directly to LLMChain.\n",
      "  warnings.warn(\n"
     ]
    },
    {
     "ename": "TypeError",
     "evalue": "initial_value must be str or None, not dict",
     "output_type": "error",
     "traceback": [
      "\u001b[0;31m---------------------------------------------------------------------------\u001b[0m",
      "\u001b[0;31mTypeError\u001b[0m                                 Traceback (most recent call last)",
      "Cell \u001b[0;32mIn[26], line 1\u001b[0m\n\u001b[0;32m----> 1\u001b[0m output \u001b[38;5;241m=\u001b[39m \u001b[43mchain\u001b[49m\u001b[38;5;241;43m.\u001b[39;49m\u001b[43mpredict_and_parse\u001b[49m\u001b[43m(\u001b[49m\u001b[43mtext\u001b[49m\u001b[38;5;241;43m=\u001b[39;49m\u001b[43mjd\u001b[49m\u001b[43m)\u001b[49m[\u001b[38;5;124m\"\u001b[39m\u001b[38;5;124mdata\u001b[39m\u001b[38;5;124m\"\u001b[39m]\n\u001b[1;32m      3\u001b[0m printOutput(output)\n",
      "File \u001b[0;32m~/miniconda3/lib/python3.10/site-packages/langchain/chains/llm.py:322\u001b[0m, in \u001b[0;36mLLMChain.predict_and_parse\u001b[0;34m(self, callbacks, **kwargs)\u001b[0m\n\u001b[1;32m    320\u001b[0m result \u001b[38;5;241m=\u001b[39m \u001b[38;5;28mself\u001b[39m\u001b[38;5;241m.\u001b[39mpredict(callbacks\u001b[38;5;241m=\u001b[39mcallbacks, \u001b[38;5;241m*\u001b[39m\u001b[38;5;241m*\u001b[39mkwargs)\n\u001b[1;32m    321\u001b[0m \u001b[38;5;28;01mif\u001b[39;00m \u001b[38;5;28mself\u001b[39m\u001b[38;5;241m.\u001b[39mprompt\u001b[38;5;241m.\u001b[39moutput_parser \u001b[38;5;129;01mis\u001b[39;00m \u001b[38;5;129;01mnot\u001b[39;00m \u001b[38;5;28;01mNone\u001b[39;00m:\n\u001b[0;32m--> 322\u001b[0m     \u001b[38;5;28;01mreturn\u001b[39;00m \u001b[38;5;28;43mself\u001b[39;49m\u001b[38;5;241;43m.\u001b[39;49m\u001b[43mprompt\u001b[49m\u001b[38;5;241;43m.\u001b[39;49m\u001b[43moutput_parser\u001b[49m\u001b[38;5;241;43m.\u001b[39;49m\u001b[43mparse\u001b[49m\u001b[43m(\u001b[49m\u001b[43mresult\u001b[49m\u001b[43m)\u001b[49m\n\u001b[1;32m    323\u001b[0m \u001b[38;5;28;01melse\u001b[39;00m:\n\u001b[1;32m    324\u001b[0m     \u001b[38;5;28;01mreturn\u001b[39;00m result\n",
      "File \u001b[0;32m~/miniconda3/lib/python3.10/site-packages/kor/extraction/parser.py:38\u001b[0m, in \u001b[0;36mKorParser.parse\u001b[0;34m(self, text)\u001b[0m\n\u001b[1;32m     36\u001b[0m \u001b[38;5;250m\u001b[39m\u001b[38;5;124;03m\"\"\"Parse the text.\"\"\"\u001b[39;00m\n\u001b[1;32m     37\u001b[0m \u001b[38;5;28;01mtry\u001b[39;00m:\n\u001b[0;32m---> 38\u001b[0m     data \u001b[38;5;241m=\u001b[39m \u001b[38;5;28;43mself\u001b[39;49m\u001b[38;5;241;43m.\u001b[39;49m\u001b[43mencoder\u001b[49m\u001b[38;5;241;43m.\u001b[39;49m\u001b[43mdecode\u001b[49m\u001b[43m(\u001b[49m\u001b[43mtext\u001b[49m\u001b[43m)\u001b[49m\n\u001b[1;32m     39\u001b[0m \u001b[38;5;28;01mexcept\u001b[39;00m ParseError \u001b[38;5;28;01mas\u001b[39;00m e:\n\u001b[1;32m     40\u001b[0m     \u001b[38;5;28;01mreturn\u001b[39;00m {\u001b[38;5;124m\"\u001b[39m\u001b[38;5;124mdata\u001b[39m\u001b[38;5;124m\"\u001b[39m: {}, \u001b[38;5;124m\"\u001b[39m\u001b[38;5;124mraw\u001b[39m\u001b[38;5;124m\"\u001b[39m: text, \u001b[38;5;124m\"\u001b[39m\u001b[38;5;124merrors\u001b[39m\u001b[38;5;124m\"\u001b[39m: [e], \u001b[38;5;124m\"\u001b[39m\u001b[38;5;124mvalidated_data\u001b[39m\u001b[38;5;124m\"\u001b[39m: {}}\n",
      "File \u001b[0;32m~/miniconda3/lib/python3.10/site-packages/kor/encoders/csv_data.py:95\u001b[0m, in \u001b[0;36mCSVEncoder.decode\u001b[0;34m(self, text)\u001b[0m\n\u001b[1;32m     92\u001b[0m     table_str \u001b[38;5;241m=\u001b[39m text\n\u001b[1;32m     94\u001b[0m \u001b[38;5;28;01mif\u001b[39;00m table_str:\n\u001b[0;32m---> 95\u001b[0m     \u001b[38;5;28;01mwith\u001b[39;00m \u001b[43mStringIO\u001b[49m\u001b[43m(\u001b[49m\u001b[43mtable_str\u001b[49m\u001b[43m)\u001b[49m \u001b[38;5;28;01mas\u001b[39;00m buffer:\n\u001b[1;32m     96\u001b[0m         \u001b[38;5;28;01mtry\u001b[39;00m:\n\u001b[1;32m     97\u001b[0m             df \u001b[38;5;241m=\u001b[39m pd\u001b[38;5;241m.\u001b[39mread_csv(\n\u001b[1;32m     98\u001b[0m                 buffer,\n\u001b[1;32m     99\u001b[0m                 dtype\u001b[38;5;241m=\u001b[39m\u001b[38;5;28mstr\u001b[39m,\n\u001b[0;32m   (...)\u001b[0m\n\u001b[1;32m    102\u001b[0m                 skipinitialspace\u001b[38;5;241m=\u001b[39m\u001b[38;5;28;01mTrue\u001b[39;00m,\n\u001b[1;32m    103\u001b[0m             )\n",
      "\u001b[0;31mTypeError\u001b[0m: initial_value must be str or None, not dict"
     ]
    }
   ],
   "source": [
    "output = chain.predict_and_parse(text=jd)[\"data\"]\n",
    "\n",
    "printOutput(output)"
   ]
  },
  {
   "cell_type": "code",
   "execution_count": null,
   "id": "9202a610",
   "metadata": {},
   "outputs": [],
   "source": []
  },
  {
   "cell_type": "code",
   "execution_count": 35,
   "id": "a5c47c5f",
   "metadata": {},
   "outputs": [],
   "source": [
    "schema={\"properties\":{\"responsibilities\":{\"type\":\"string\"},\"requirements\":{\"type\":\"string\"},'tools/skills':{\"type\":\"string\"}}}"
   ]
  },
  {
   "cell_type": "code",
   "execution_count": 36,
   "id": "3eebf57f",
   "metadata": {},
   "outputs": [],
   "source": [
    "chain=create_extraction_chain(schema,llm)"
   ]
  },
  {
   "cell_type": "code",
   "execution_count": 37,
   "id": "668d2849",
   "metadata": {},
   "outputs": [
    {
     "data": {
      "text/plain": [
       "[{'responsibilities': \"Analyse and understand business requirements in details\\nWork in Scrum/Kanban team environment to size and plan the requirements\\nDevelop software products following standard coding practices and automated unit testing\\nMaintain software products by identifying and resolving issues\\nWork collaboratively in an Agile team to deliver team commitments and goals\\nMaintain required documentation of own's work\\nResearch on new technology and techniques for continuous improvement of the products\\nParticipate actively in retrospective meetings for continuous improvement of the team\",\n",
       "  'requirements': 'Bachelors Degree in Computer Science, Computer Engineering or related technical Discipline\\nMinimum 1 to 3 Years of prior work experience in related field\\nFamiliar with Object Oriented Concept\\nFamiliar with Data Structure and DBMS\\nFamiliar with Agile/Scrum Practices and Tools',\n",
       "  'tools/skills': 'JAVA\\nSpring Framework\\nDatabase (MySQL)'}]"
      ]
     },
     "execution_count": 37,
     "metadata": {},
     "output_type": "execute_result"
    }
   ],
   "source": [
    "chain.run(jd)"
   ]
  },
  {
   "cell_type": "code",
   "execution_count": null,
   "id": "03d96a4b",
   "metadata": {},
   "outputs": [],
   "source": []
  }
 ],
 "metadata": {
  "kernelspec": {
   "display_name": "Python 3 (ipykernel)",
   "language": "python",
   "name": "python3"
  },
  "language_info": {
   "codemirror_mode": {
    "name": "ipython",
    "version": 3
   },
   "file_extension": ".py",
   "mimetype": "text/x-python",
   "name": "python",
   "nbconvert_exporter": "python",
   "pygments_lexer": "ipython3",
   "version": "3.10.9"
  }
 },
 "nbformat": 4,
 "nbformat_minor": 5
}
