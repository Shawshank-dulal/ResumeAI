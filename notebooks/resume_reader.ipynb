{
 "cells": [
  {
   "cell_type": "code",
   "execution_count": 18,
   "id": "7e4045bf",
   "metadata": {},
   "outputs": [],
   "source": [
    "from dotenv import load_dotenv\n",
    "from PyPDF2 import PdfReader\n",
    "from langchain.text_splitter import CharacterTextSplitter\n",
    "from langchain.embeddings import OpenAIEmbeddings, HuggingFaceInstructEmbeddings\n",
    "from langchain.vectorstores import FAISS\n",
    "from langchain.chat_models import ChatOpenAI\n",
    "from langchain.memory import ConversationBufferMemory\n",
    "from langchain.chains import ConversationalRetrievalChain\n",
    "from langchain.llms import HuggingFaceHub\n",
    "from langchain.chains import create_extraction_chain\n"
   ]
  },
  {
   "cell_type": "code",
   "execution_count": 10,
   "id": "7b77798d",
   "metadata": {},
   "outputs": [],
   "source": [
    "def get_pdf_text(pdf_docs):\n",
    "    text = \"\"\n",
    "    for pdf in pdf_docs:\n",
    "        pdf_reader = PdfReader(pdf)\n",
    "        for page in pdf_reader.pages:\n",
    "            text += page.extract_text()\n",
    "    return text\n",
    "\n",
    "\n",
    "def get_text_chunks(text):\n",
    "    text_splitter = CharacterTextSplitter(\n",
    "        separator=\"\\n\",\n",
    "        chunk_size=1000,\n",
    "        chunk_overlap=200,\n",
    "        length_function=len\n",
    "    )\n",
    "    chunks = text_splitter.split_text(text)\n",
    "    return chunks\n",
    "\n",
    "\n",
    "def get_vectorstore(text_chunks):\n",
    "    embeddings = OpenAIEmbeddings()\n",
    "    # embeddings = HuggingFaceInstructEmbeddings(model_name=\"hkunlp/instructor-xl\")\n",
    "    vectorstore = FAISS.from_texts(texts=text_chunks, embedding=embeddings)\n",
    "    return vectorstore\n",
    "\n",
    "\n",
    "def get_conversation_chain(vectorstore):\n",
    "    llm = ChatOpenAI()\n",
    "    # llm = HuggingFaceHub(repo_id=\"google/flan-t5-xxl\", model_kwargs={\"temperature\":0.5, \"max_length\":512})\n",
    "\n",
    "    memory = ConversationBufferMemory(\n",
    "        memory_key='chat_history', return_messages=True)\n",
    "    conversation_chain = ConversationalRetrievalChain.from_llm(\n",
    "        llm=llm,\n",
    "        retriever=vectorstore.as_retriever(),\n",
    "        memory=memory\n",
    "    )\n",
    "    return conversation_chain\n",
    "\n",
    "\n",
    "def handle_userinput(user_question):\n",
    "    response = st.session_state.conversation({'question': user_question})\n",
    "    st.session_state.chat_history = response['chat_history']\n",
    "\n",
    "    for i, message in enumerate(st.session_state.chat_history):\n",
    "        if i % 2 == 0:\n",
    "            st.write(user_template.replace(\n",
    "                \"{{MSG}}\", message.content), unsafe_allow_html=True)\n",
    "        else:\n",
    "            st.write(bot_template.replace(\n",
    "                \"{{MSG}}\", message.content), unsafe_allow_html=True)\n",
    "\n"
   ]
  },
  {
   "cell_type": "code",
   "execution_count": 12,
   "id": "93498192",
   "metadata": {},
   "outputs": [],
   "source": [
    "pdf_reader=PdfReader('test.pdf')\n",
    "text=''"
   ]
  },
  {
   "cell_type": "code",
   "execution_count": 13,
   "id": "a1a4d1e4",
   "metadata": {},
   "outputs": [],
   "source": [
    "for page in pdf_reader.pages:\n",
    "            text += page.extract_text()"
   ]
  },
  {
   "cell_type": "code",
   "execution_count": 14,
   "id": "f7cb7e5c",
   "metadata": {},
   "outputs": [
    {
     "data": {
      "text/plain": [
       "' \\nSUSAN   KHATIWADA  \\n\\uf0b7 Shankharapur 5 , Kathmandu, N epal \\n\\uf0b7 +977 9849140941  \\n\\uf0b7 susankhatiwada23@gmail.com  \\n \\n \\n \\n\\uf076 PROFESSIONAL SUMMARY   \\nDedicated professional with a teaching background, currently working as a counselor and \\ndocumentation officer. Known for creating inclusive learning environments and providing \\nvaluable guidance. Skillful at careful record -keeping and efficient administrative tasks. Ready to \\nbring a continuous balance of educational and organizational skil ls to contribute to team.  \\nOrganized simultaneous office functions and direct administrative personnel to meet needs of \\nprofessionals. Performance -oriented and driven with in -depth understanding of budgets, payroll \\nand office organization needs. Skillfully coordinate resources and administrative support to keep \\noperations smooth and boost team productivity.  Excellent team  player with positive attitude. \\nPossess good time ma nagement & organization skills. Career oriented, hardworking  & \\norganizational skills. Quick learner & ability to learn new concepts.  \\n\\uf076 EMPLOYMENT HISTORY  \\nGoes Educati onal Consultancy - Kathmandu,  \\nCounselor and Documentation Officer  \\nDecember 2022 - Current  \\n\\uf0d8 Developed and maintained document control processes and procedures.  \\n\\uf0d8 Reviewed and updated existing documentation to ensure accuracy and compliance with \\nregulations.  \\n\\uf0d8 Maintained records of document versions and tracked changes made over time.  \\n\\uf0d8 Maintained documents by managing files following established procedures.  \\n\\uf0d8 Specialize in guiding students t hrough the complex and transformative journey of higher \\neducation.  \\n\\uf0d8 Provide comprehensive counseling, assist with the details  of application processes, and ensure \\nthat documentation is faultless . \\n\\uf0d8 Empower students to make informed decisions about their acade mic and career paths, ultimately \\nhelping them achieve their dreams  \\nSankhu Palubari Community School - Kathmandu  \\nLower Secondary School Teacher  \\nJanuary 2018 - November 2022  \\n\\uf0d8 Developed and implemented l esson plans for students.  \\n\\uf0d8 Facilitated small group instructio n for reading and writing  activities.  \\n\\uf0d8 Conducted assessments to evaluate student progress and development.  \\n\\uf0d8 Utilized positive reinforcement strategies to motivate student learning.  \\n\\uf0d8 Established a safe and productive classroom environment.  \\n\\uf0d8 Maintained  positive classroom culture through behavior management techniques.  \\n \\n\\uf076 EDUCATION AND TRAINING  \\n\\uf0d8 Sakwo Campus, Kathmandu   \\n                            Bachelors in Business Studies (BBS ), 2021  A.D \\n\\uf0d8 St. Lawrence Secondary School, Kathmandu   \\n                             Higher Secondary Education, Business  Management , 2016  \\n\\uf0d8 Splendid Valley English School, Kathmandu  \\n                             School Leaving Certificate , 2014   \\n\\uf076 SKILLS  \\n- Care Planning                   - Office Administration  \\n- Counseling                          - Communication Skills  \\n- Accounting                         - MS Word  \\n- MS Excel                            - PowerPoint  \\n- Bookkeeping                     -  Database administration  \\n- Documentation and control  \\n\\uf076 LANGUAGE  PROFICIENCY  \\nNepali: First Language  \\nEnglish: Advanced (C1)  \\nHindi: Upper  Intermediate (B2)  \\n    \\n \\n '"
      ]
     },
     "execution_count": 14,
     "metadata": {},
     "output_type": "execute_result"
    }
   ],
   "source": [
    "text"
   ]
  },
  {
   "cell_type": "code",
   "execution_count": 15,
   "id": "12a995fe",
   "metadata": {},
   "outputs": [],
   "source": [
    "schema={\"properties\":{\"experience\":{\"type\":\"string\"},\"total-work-experience\":{\"type\":\"integer\"},'tools/skills':{\"type\":\"string\"}}}"
   ]
  },
  {
   "cell_type": "code",
   "execution_count": 16,
   "id": "e4526f96",
   "metadata": {},
   "outputs": [],
   "source": [
    "openai_api_key = ''\n",
    "\n",
    "llm = ChatOpenAI(\n",
    "    # model_name=\"gpt-3.5-turbo\",\n",
    "    model=\"gpt-3.5-turbo\",\n",
    "    temperature=0,\n",
    "    max_tokens=2000,\n",
    "    openai_api_key=openai_api_key\n",
    ")"
   ]
  },
  {
   "cell_type": "code",
   "execution_count": 19,
   "id": "18b211a3",
   "metadata": {},
   "outputs": [],
   "source": [
    "chain=create_extraction_chain(schema,llm)"
   ]
  },
  {
   "cell_type": "code",
   "execution_count": 20,
   "id": "6a861125",
   "metadata": {},
   "outputs": [
    {
     "data": {
      "text/plain": [
       "[{'experience': 'Counselor and Documentation Officer',\n",
       "  'total-work-experience': 1,\n",
       "  'tools/skills': 'Care Planning, Office Administration, Counseling, Communication Skills, MS Word, MS Excel, PowerPoint, Bookkeeping, Database administration, Documentation and control'},\n",
       " {'experience': 'Lower Secondary School Teacher',\n",
       "  'total-work-experience': 4,\n",
       "  'tools/skills': 'Lesson Planning, Small Group Instruction, Assessments, Positive Reinforcement Strategies, Behavior Management Techniques'}]"
      ]
     },
     "execution_count": 20,
     "metadata": {},
     "output_type": "execute_result"
    }
   ],
   "source": [
    "chain.run(text)"
   ]
  },
  {
   "cell_type": "code",
   "execution_count": null,
   "id": "c2d98941",
   "metadata": {},
   "outputs": [],
   "source": []
  }
 ],
 "metadata": {
  "kernelspec": {
   "display_name": "Python 3 (ipykernel)",
   "language": "python",
   "name": "python3"
  },
  "language_info": {
   "codemirror_mode": {
    "name": "ipython",
    "version": 3
   },
   "file_extension": ".py",
   "mimetype": "text/x-python",
   "name": "python",
   "nbconvert_exporter": "python",
   "pygments_lexer": "ipython3",
   "version": "3.10.9"
  }
 },
 "nbformat": 4,
 "nbformat_minor": 5
}
